{
 "cells": [
  {
   "cell_type": "code",
   "execution_count": 1011,
   "id": "1ac6405e",
   "metadata": {},
   "outputs": [
    {
     "name": "stdout",
     "output_type": "stream",
     "text": [
      "GPU is not visible to TensorFlow.\n",
      "TensorFlow is using CPU for computations.\n"
     ]
    }
   ],
   "source": [
    "\n",
    "import pandas as pd\n",
    "import numpy as np\n",
    "import matplotlib.pyplot as plt\n",
    "import seaborn as sns\n",
    "import tensorflow as tf\n",
    "from keras.layers import Input, Embedding, Flatten, concatenate, Dense, Concatenate, Dropout\n",
    "from tensorflow.keras.models import Model\n",
    "import tensorflow as tf\n",
    "from keras.callbacks import EarlyStopping\n",
    "from tensorflow.keras.optimizers import Adam\n",
    "import tensorflow.keras.backend as K\n",
    "from tensorflow.keras.layers import Dropout\n",
    "from keras.regularizers import l2\n",
    "import tensorflow as tf\n",
    "from keras.optimizers import RMSprop\n",
    "from keras.models import Model\n",
    "from keras.layers.core import Reshape\n",
    "from sklearn.metrics import precision_score, recall_score, f1_score, mean_squared_error\n",
    "\n",
    "\n",
    "# Load data\n",
    "\n",
    "ratings_df = pd.read_csv(\"data/ml-latest-small/ratings.csv\")\n",
    "movies_df = pd.read_csv(\"data/ml-latest-small/movies.csv\")\n",
    "\n",
    "pd.set_option('display.max_columns', 10) # this will show 10 collumns\n",
    "\n",
    "# Check if GPU is visible to TensorFlow\n",
    "gpu_devices = tf.config.list_physical_devices('GPU')\n",
    "if len(gpu_devices) > 0:\n",
    "    print(\"GPU is visible to TensorFlow.\")\n",
    "else:\n",
    "    print(\"GPU is not visible to TensorFlow.\")\n",
    "\n",
    "# Check if TensorFlow is using the GPU\n",
    "if tf.test.is_gpu_available():\n",
    "    print(\"TensorFlow is using GPU for computations.\")\n",
    "else:\n",
    "    print(\"TensorFlow is using CPU for computations.\")\n"
   ]
  },
  {
   "cell_type": "code",
   "execution_count": 1012,
   "id": "4f74c1d0",
   "metadata": {},
   "outputs": [
    {
     "name": "stdout",
     "output_type": "stream",
     "text": [
      "Max movie ID: 193609\n",
      "Max user ID: 610\n"
     ]
    }
   ],
   "source": [
    "# Determine the maximum movie ID and user ID\n",
    "max_movie_id = ratings_df['movieId'].max()\n",
    "max_user_id = ratings_df['userId'].max()\n",
    "\n",
    "# Print the maximum movie and user IDs\n",
    "print(f'Max movie ID: {max_movie_id}')\n",
    "print(f'Max user ID: {max_user_id}')\n"
   ]
  },
  {
   "cell_type": "code",
   "execution_count": 1013,
   "id": "c61d6a2a",
   "metadata": {},
   "outputs": [
    {
     "name": "stdout",
     "output_type": "stream",
     "text": [
      "   movieId                               title  \\\n",
      "0        1                    Toy Story (1995)   \n",
      "1        2                      Jumanji (1995)   \n",
      "2        3             Grumpier Old Men (1995)   \n",
      "3        4            Waiting to Exhale (1995)   \n",
      "4        5  Father of the Bride Part II (1995)   \n",
      "\n",
      "                                        genres  \n",
      "0  Adventure|Animation|Children|Comedy|Fantasy  \n",
      "1                   Adventure|Children|Fantasy  \n",
      "2                               Comedy|Romance  \n",
      "3                         Comedy|Drama|Romance  \n",
      "4                                       Comedy  \n"
     ]
    },
    {
     "data": {
      "text/plain": [
       "Index(['movieId', 'title', 'genres'], dtype='object')"
      ]
     },
     "execution_count": 1013,
     "metadata": {},
     "output_type": "execute_result"
    }
   ],
   "source": [
    "print(movies_df.head())\n",
    "movies_df.columns\n"
   ]
  },
  {
   "cell_type": "code",
   "execution_count": 1014,
   "id": "5f5fa369",
   "metadata": {},
   "outputs": [
    {
     "name": "stdout",
     "output_type": "stream",
     "text": [
      "   userId  movieId  rating  timestamp\n",
      "0       1        1     4.0  964982703\n",
      "1       1        3     4.0  964981247\n",
      "2       1        6     4.0  964982224\n",
      "3       1       47     5.0  964983815\n",
      "4       1       50     5.0  964982931\n"
     ]
    },
    {
     "data": {
      "text/plain": [
       "Index(['userId', 'movieId', 'rating', 'timestamp'], dtype='object')"
      ]
     },
     "execution_count": 1014,
     "metadata": {},
     "output_type": "execute_result"
    }
   ],
   "source": [
    "print(ratings_df.head())\n",
    "ratings_df.columns\n",
    "\n"
   ]
  },
  {
   "cell_type": "code",
   "execution_count": 1015,
   "id": "b94fd62c",
   "metadata": {},
   "outputs": [
    {
     "data": {
      "text/plain": [
       "(9742, 3)"
      ]
     },
     "execution_count": 1015,
     "metadata": {},
     "output_type": "execute_result"
    }
   ],
   "source": [
    "\n",
    "movies_df.shape\n",
    "\n"
   ]
  },
  {
   "cell_type": "code",
   "execution_count": 1016,
   "id": "023cca16",
   "metadata": {},
   "outputs": [
    {
     "name": "stdout",
     "output_type": "stream",
     "text": [
      "movieId    0\n",
      "title      0\n",
      "genres     0\n",
      "dtype: int64\n",
      "userId       0\n",
      "movieId      0\n",
      "rating       0\n",
      "timestamp    0\n",
      "dtype: int64\n",
      "(9742, 3)\n",
      "(100836, 4)\n"
     ]
    }
   ],
   "source": [
    "\n",
    "# Drop rows with missing titles\n",
    "ratings_df.dropna(axis=0, inplace=True)\n",
    "movies_df.dropna(axis=0, inplace=True)\n",
    "\n",
    "# Normalize the rating values\n",
    "mean_rating = ratings_df['rating'].mean()\n",
    "std_rating = ratings_df['rating'].std()\n",
    "\n",
    "# Check for null values\n",
    "print(movies_df.isnull().sum())\n",
    "print(ratings_df.isnull().sum())\n",
    "\n",
    "print(movies_df.shape)\n",
    "print(ratings_df.shape)\n"
   ]
  },
  {
   "cell_type": "code",
   "execution_count": 1017,
   "id": "c9a2db7e",
   "metadata": {},
   "outputs": [
    {
     "name": "stdout",
     "output_type": "stream",
     "text": [
      "Training dataset:\n",
      "       userId  movieId  rating   timestamp\n",
      "67037     432    77866     4.5  1335139641\n",
      "42175     288      474     3.0   978465565\n",
      "93850     599     4351     3.0  1498524542\n",
      "6187       42     2987     4.0   996262677\n",
      "12229      75     1610     4.0  1158989841\n",
      "Shape of the training dataset: (80669, 4)\n",
      "Validation dataset:\n",
      "       userId  movieId  rating   timestamp\n",
      "49711     318    94677     4.0  1417280088\n",
      "49833     318   148424     4.5  1457646243\n",
      "16035     104     2325     3.5  1165481857\n",
      "88697     573      356     4.5  1186589781\n",
      "50468     325     5881     4.0  1039396851\n",
      "Shape of the validation dataset: (10084, 4)\n",
      "Testing dataset:\n",
      "    userId  movieId  rating  timestamp\n",
      "5        1       70     3.0  964982400\n",
      "15       1      260     5.0  964981680\n",
      "20       1      356     4.0  964980962\n",
      "37       1      648     3.0  964982563\n",
      "42       1      780     3.0  964984086\n",
      "Shape of the testing dataset: (10083, 4)\n"
     ]
    }
   ],
   "source": [
    "\n",
    "\n",
    "# Print the first few rows of the training dataset\n",
    "print(\"Training dataset:\")\n",
    "print(train_df.head())\n",
    "\n",
    "# Print the shape of the training dataset\n",
    "print(\"Shape of the training dataset:\", train_df.shape)\n",
    "\n",
    "# Print the first few rows of the validation dataset\n",
    "print(\"Validation dataset:\")\n",
    "print(val_df.head())\n",
    "\n",
    "# Print the shape of the validation dataset\n",
    "print(\"Shape of the validation dataset:\", val_df.shape)\n",
    "\n",
    "# Print the first few rows of the testing dataset\n",
    "print(\"Testing dataset:\")\n",
    "print(test_df.head())\n",
    "\n",
    "# Print the shape of the testing dataset\n",
    "print(\"Shape of the testing dataset:\", test_df.shape)\n"
   ]
  },
  {
   "cell_type": "code",
   "execution_count": 1018,
   "id": "6f9dfbda",
   "metadata": {},
   "outputs": [],
   "source": [
    "\n",
    "\n",
    "def rmse(y_true, y_pred):\n",
    "    return K.sqrt(K.mean(K.square(y_pred - y_true)))\n",
    "\n",
    "def clipped_rating(y_true, y_pred):\n",
    "    return K.clip(y_pred, 1.0, 5.0)\n",
    "\n",
    "def rating_accuracy(y_true, y_pred):\n",
    "    return K.mean(K.equal(K.round(y_true), K.round(y_pred)))\n"
   ]
  },
  {
   "cell_type": "code",
   "execution_count": 1019,
   "id": "a6796b27",
   "metadata": {},
   "outputs": [],
   "source": [
    "# Define custom metrics\n",
    "metrics = [rmse, 'mae', rating_accuracy]\n"
   ]
  },
  {
   "cell_type": "code",
   "execution_count": 1050,
   "id": "87272e1f",
   "metadata": {},
   "outputs": [],
   "source": [
    "\n",
    "# Split the data into training, validation, and testing sets\n",
    "train_df = ratings_df.sample(frac=0.8, random_state=42)\n",
    "val_test_ratings_df = ratings_df.drop(train_df.index)\n",
    "val_df = val_test_ratings_df.sample(frac=0.5, random_state=42)\n",
    "test_df = val_test_ratings_df.drop(val_df.index)\n",
    "\n",
    "#define input layers\n",
    "num_users = len(ratings_df.userId.unique())\n",
    "num_movies = len(ratings_df.movieId.unique())\n",
    "embedding_size = 128\n",
    "movie_input = Input(shape=(1,))\n",
    "user_input = Input(shape=(1,))\n",
    "\n",
    "movie_embedding = Embedding(input_dim=193610, output_dim=32, name='movie_embedding')(movie_input)\n",
    "user_embedding = Embedding(input_dim=611, output_dim=32, name='user_embedding')(user_input)\n",
    "\n",
    "# Flatten the embedding layers\n",
    "movie_vec = Flatten()(movie_embedding)\n",
    "user_vec = Flatten()(user_embedding)\n",
    "\n",
    "# Concatenate the flattened embedding layers\n",
    "concat_vec = Concatenate()([movie_vec, user_vec])\n",
    "\n",
    "# Add a dense layer with 256 units and ReLU activation\n",
    "dense1 = Dense(256, activation='relu', kernel_regularizer=l2(0.001))(concat_vec)\n",
    "dropout1 = Dropout(0.5)(dense1)\n",
    "\n",
    "# Add seconde dense layer with 64 units and ReLU activation\n",
    "dense2 = Dense(128, activation='relu', kernel_regularizer=l2(0.001))(dropout1)\n",
    "dropout2 = Dropout(0.5)(dense2)\n",
    "\n",
    "# Add third dense layer with 64 units and ReLU activation\n",
    "#dense3 = Dense(128, activation='relu', kernel_regularizer=l2(0.001))(dropout2)\n",
    "#dropout3 = Dropout(0.5)(dense3)\n",
    "\n",
    "\n",
    "\n",
    "# Add an output layer with a single unit and linear activation\n",
    "output = Dense(1, activation='linear')(dropout2)\n",
    "\n",
    "\n",
    "# Create the model with the input and output layers\n",
    "model = Model(inputs=[movie_input, user_input], outputs=output)\n",
    "\n",
    "# Define custom metrics\n",
    "metrics = [rmse, 'mae', rating_accuracy]\n",
    "\n",
    "# Define early stopping callback\n",
    "early_stopping = EarlyStopping(monitor='val_loss', patience=3, verbose=1, mode='auto')\n",
    "\n",
    "# Compile the model with the Adam optimizer and mean squared error loss\n",
    "adam = Adam(learning_rate=0.001)\n",
    "model.compile(optimizer=adam, loss='mse', metrics=metrics)\n"
   ]
  },
  {
   "cell_type": "code",
   "execution_count": 1021,
   "id": "4e6e7b0b",
   "metadata": {},
   "outputs": [
    {
     "name": "stdout",
     "output_type": "stream",
     "text": [
      "Model: \"model_121\"\n",
      "__________________________________________________________________________________________________\n",
      " Layer (type)                   Output Shape         Param #     Connected to                     \n",
      "==================================================================================================\n",
      " input_244 (InputLayer)         [(None, 1)]          0           []                               \n",
      "                                                                                                  \n",
      " input_245 (InputLayer)         [(None, 1)]          0           []                               \n",
      "                                                                                                  \n",
      " movie_embedding (Embedding)    (None, 1, 32)        6195520     ['input_244[0][0]']              \n",
      "                                                                                                  \n",
      " user_embedding (Embedding)     (None, 1, 32)        19552       ['input_245[0][0]']              \n",
      "                                                                                                  \n",
      " flatten_228 (Flatten)          (None, 32)           0           ['movie_embedding[0][0]']        \n",
      "                                                                                                  \n",
      " flatten_229 (Flatten)          (None, 32)           0           ['user_embedding[0][0]']         \n",
      "                                                                                                  \n",
      " concatenate_131 (Concatenate)  (None, 64)           0           ['flatten_228[0][0]',            \n",
      "                                                                  'flatten_229[0][0]']            \n",
      "                                                                                                  \n",
      " dense_420 (Dense)              (None, 256)          16640       ['concatenate_131[0][0]']        \n",
      "                                                                                                  \n",
      " dropout_273 (Dropout)          (None, 256)          0           ['dense_420[0][0]']              \n",
      "                                                                                                  \n",
      " dense_421 (Dense)              (None, 128)          32896       ['dropout_273[0][0]']            \n",
      "                                                                                                  \n",
      " dropout_274 (Dropout)          (None, 128)          0           ['dense_421[0][0]']              \n",
      "                                                                                                  \n",
      " dense_422 (Dense)              (None, 1)            129         ['dropout_274[0][0]']            \n",
      "                                                                                                  \n",
      "==================================================================================================\n",
      "Total params: 6,264,737\n",
      "Trainable params: 6,264,737\n",
      "Non-trainable params: 0\n",
      "__________________________________________________________________________________________________\n"
     ]
    }
   ],
   "source": [
    "model.summary()\n",
    "            "
   ]
  },
  {
   "cell_type": "code",
   "execution_count": 1022,
   "id": "b3d605a2",
   "metadata": {},
   "outputs": [
    {
     "name": "stdout",
     "output_type": "stream",
     "text": [
      "193609\n",
      "610\n"
     ]
    }
   ],
   "source": [
    "max_movieId = train_df['movieId'].max()\n",
    "max_userId = train_df['userId'].max()\n",
    "\n",
    "print(max_movieId)\n",
    "print(max_userId)"
   ]
  },
  {
   "cell_type": "code",
   "execution_count": 1023,
   "id": "83d01956",
   "metadata": {
    "scrolled": false
   },
   "outputs": [
    {
     "name": "stdout",
     "output_type": "stream",
     "text": [
      "Epoch 1/150\n",
      "158/158 [==============================] - 11s 62ms/step - loss: 3.0215 - rmse: 1.4685 - mae: 1.2502 - rating_accuracy: 0.2815 - val_loss: 1.0154 - val_rmse: 0.9048 - val_mae: 0.7062 - val_rating_accuracy: 0.4150\n",
      "Epoch 2/150\n",
      "158/158 [==============================] - 9s 59ms/step - loss: 1.1674 - rmse: 1.0019 - mae: 0.7905 - rating_accuracy: 0.3772 - val_loss: 0.9585 - val_rmse: 0.9086 - val_mae: 0.7176 - val_rating_accuracy: 0.3944\n",
      "Epoch 3/150\n",
      "158/158 [==============================] - 10s 61ms/step - loss: 1.0606 - rmse: 0.9732 - mae: 0.7665 - rating_accuracy: 0.3892 - val_loss: 0.8858 - val_rmse: 0.8890 - val_mae: 0.6913 - val_rating_accuracy: 0.4243\n",
      "Epoch 4/150\n",
      "158/158 [==============================] - 10s 60ms/step - loss: 0.9928 - rmse: 0.9539 - mae: 0.7507 - rating_accuracy: 0.3979 - val_loss: 0.8694 - val_rmse: 0.8937 - val_mae: 0.6956 - val_rating_accuracy: 0.4238\n",
      "Epoch 5/150\n",
      "158/158 [==============================] - 10s 60ms/step - loss: 0.9518 - rmse: 0.9433 - mae: 0.7421 - rating_accuracy: 0.4014 - val_loss: 0.8446 - val_rmse: 0.8895 - val_mae: 0.6883 - val_rating_accuracy: 0.4352\n",
      "Epoch 6/150\n",
      "158/158 [==============================] - 10s 61ms/step - loss: 0.9267 - rmse: 0.9379 - mae: 0.7365 - rating_accuracy: 0.4023 - val_loss: 0.8414 - val_rmse: 0.8949 - val_mae: 0.6962 - val_rating_accuracy: 0.4236\n",
      "Epoch 7/150\n",
      "158/158 [==============================] - 9s 60ms/step - loss: 0.9105 - rmse: 0.9349 - mae: 0.7333 - rating_accuracy: 0.4076 - val_loss: 0.8251 - val_rmse: 0.8906 - val_mae: 0.6880 - val_rating_accuracy: 0.4358\n",
      "Epoch 8/150\n",
      "158/158 [==============================] - 10s 60ms/step - loss: 0.8901 - rmse: 0.9282 - mae: 0.7282 - rating_accuracy: 0.4095 - val_loss: 0.8172 - val_rmse: 0.8899 - val_mae: 0.6877 - val_rating_accuracy: 0.4362\n",
      "Epoch 9/150\n",
      "158/158 [==============================] - 9s 60ms/step - loss: 0.8743 - rmse: 0.9227 - mae: 0.7227 - rating_accuracy: 0.4130 - val_loss: 0.8119 - val_rmse: 0.8896 - val_mae: 0.6879 - val_rating_accuracy: 0.4354\n",
      "Epoch 10/150\n",
      "158/158 [==============================] - 10s 61ms/step - loss: 0.8594 - rmse: 0.9167 - mae: 0.7182 - rating_accuracy: 0.4160 - val_loss: 0.8107 - val_rmse: 0.8907 - val_mae: 0.6899 - val_rating_accuracy: 0.4359\n",
      "Epoch 11/150\n",
      "158/158 [==============================] - 10s 62ms/step - loss: 0.8552 - rmse: 0.9161 - mae: 0.7161 - rating_accuracy: 0.4179 - val_loss: 0.8109 - val_rmse: 0.8921 - val_mae: 0.6924 - val_rating_accuracy: 0.4294\n",
      "Epoch 12/150\n",
      "158/158 [==============================] - 9s 60ms/step - loss: 0.8463 - rmse: 0.9122 - mae: 0.7137 - rating_accuracy: 0.4175 - val_loss: 0.8117 - val_rmse: 0.8934 - val_mae: 0.6953 - val_rating_accuracy: 0.4232\n",
      "Epoch 13/150\n",
      "158/158 [==============================] - 10s 61ms/step - loss: 0.8369 - rmse: 0.9079 - mae: 0.7091 - rating_accuracy: 0.4212 - val_loss: 0.8049 - val_rmse: 0.8904 - val_mae: 0.6840 - val_rating_accuracy: 0.4454\n",
      "Epoch 14/150\n",
      "158/158 [==============================] - 10s 62ms/step - loss: 0.8284 - rmse: 0.9037 - mae: 0.7057 - rating_accuracy: 0.4232 - val_loss: 0.8012 - val_rmse: 0.8890 - val_mae: 0.6880 - val_rating_accuracy: 0.4378\n",
      "Epoch 15/150\n",
      "158/158 [==============================] - 10s 60ms/step - loss: 0.8202 - rmse: 0.8995 - mae: 0.7026 - rating_accuracy: 0.4236 - val_loss: 0.8152 - val_rmse: 0.8972 - val_mae: 0.7023 - val_rating_accuracy: 0.4188\n",
      "Epoch 16/150\n",
      "158/158 [==============================] - 10s 62ms/step - loss: 0.8171 - rmse: 0.8980 - mae: 0.7018 - rating_accuracy: 0.4237 - val_loss: 0.7995 - val_rmse: 0.8883 - val_mae: 0.6851 - val_rating_accuracy: 0.4433\n",
      "Epoch 17/150\n",
      "158/158 [==============================] - 9s 60ms/step - loss: 0.8110 - rmse: 0.8948 - mae: 0.6989 - rating_accuracy: 0.4248 - val_loss: 0.8026 - val_rmse: 0.8903 - val_mae: 0.6919 - val_rating_accuracy: 0.4313\n",
      "Epoch 18/150\n",
      "158/158 [==============================] - 10s 61ms/step - loss: 0.8007 - rmse: 0.8894 - mae: 0.6936 - rating_accuracy: 0.4293 - val_loss: 0.7955 - val_rmse: 0.8864 - val_mae: 0.6824 - val_rating_accuracy: 0.4470\n",
      "Epoch 19/150\n",
      "158/158 [==============================] - 10s 61ms/step - loss: 0.7957 - rmse: 0.8864 - mae: 0.6920 - rating_accuracy: 0.4321 - val_loss: 0.7974 - val_rmse: 0.8874 - val_mae: 0.6851 - val_rating_accuracy: 0.4430\n",
      "Epoch 20/150\n",
      "158/158 [==============================] - 9s 60ms/step - loss: 0.7928 - rmse: 0.8850 - mae: 0.6889 - rating_accuracy: 0.4333 - val_loss: 0.7950 - val_rmse: 0.8861 - val_mae: 0.6845 - val_rating_accuracy: 0.4420\n",
      "Epoch 21/150\n",
      "158/158 [==============================] - 10s 61ms/step - loss: 0.7870 - rmse: 0.8814 - mae: 0.6865 - rating_accuracy: 0.4350 - val_loss: 0.7974 - val_rmse: 0.8875 - val_mae: 0.6830 - val_rating_accuracy: 0.4472\n",
      "Epoch 22/150\n",
      "158/158 [==============================] - 10s 60ms/step - loss: 0.7750 - rmse: 0.8749 - mae: 0.6815 - rating_accuracy: 0.4367 - val_loss: 0.7989 - val_rmse: 0.8881 - val_mae: 0.6826 - val_rating_accuracy: 0.4503\n",
      "Epoch 23/150\n",
      "158/158 [==============================] - 10s 61ms/step - loss: 0.7694 - rmse: 0.8713 - mae: 0.6777 - rating_accuracy: 0.4382 - val_loss: 0.7964 - val_rmse: 0.8866 - val_mae: 0.6812 - val_rating_accuracy: 0.4486\n",
      "Epoch 23: early stopping\n"
     ]
    }
   ],
   "source": [
    "history = model.fit(x=[train_df['movieId'], train_df['userId']], \n",
    "                    y=train_df['rating'],\n",
    "                    batch_size=512, epochs=150, verbose=1,\n",
    "                    validation_data=([val_df['movieId'], val_df['userId']], val_df['rating']),\n",
    "                    callbacks=[early_stopping])"
   ]
  },
  {
   "cell_type": "code",
   "execution_count": 1024,
   "id": "7a1271b0",
   "metadata": {},
   "outputs": [
    {
     "name": "stdout",
     "output_type": "stream",
     "text": [
      "316/316 [==============================] - 1s 2ms/step - loss: 0.7756 - rmse: 0.8534 - mae: 0.6702 - rating_accuracy: 0.4580\n",
      "Number of metrics: 4\n",
      "Test metrics: [0.7756011486053467, 0.8534005284309387, 0.6702085733413696, 0.4580366313457489]\n",
      "Test loss: 0.7756011486053467\n",
      "Test MAE: 0.6702085733413696\n",
      "Test RMSE: 0.8534005284309387\n",
      "Test rating accuracy: 0.4580366313457489\n"
     ]
    }
   ],
   "source": [
    "# Evaluate the model on the test set\n",
    "test_metrics = model.evaluate([test_df['movieId'], test_df['userId']], test_df['rating'])\n",
    "\n",
    "print('Number of metrics:', len(test_metrics))\n",
    "print('Test metrics:', test_metrics)\n",
    "\n",
    "test_loss = test_metrics[0]\n",
    "test_rmse = test_metrics[1]\n",
    "test_mae = test_metrics[2]\n",
    "test_rating_acc = test_metrics[3]\n",
    "\n",
    "\n",
    "print('Test loss:', test_loss)\n",
    "print('Test MAE:', test_mae)\n",
    "print('Test RMSE:', test_rmse)\n",
    "print('Test rating accuracy:', test_rating_acc)"
   ]
  },
  {
   "cell_type": "code",
   "execution_count": 1025,
   "id": "1aa6085f",
   "metadata": {},
   "outputs": [
    {
     "name": "stdout",
     "output_type": "stream",
     "text": [
      "2521/2521 [==============================] - 5s 2ms/step - loss: 0.6109 - rmse: 0.7661 - mae: 0.5883 - rating_accuracy: 0.5090\n",
      "Train loss: 0.6109094619750977\n",
      "Train MAE: 0.7661305665969849\n",
      "Train RMSE: 0.5882810950279236\n",
      "Train rating accuracy: 0.5089762806892395\n"
     ]
    }
   ],
   "source": [
    "# Evaluate the model on the train set\n",
    "\n",
    "train_loss, train_mae, train_rmse, train_rating_acc = model.evaluate([train_df['movieId'], train_df['userId']], train_df['rating'])\n",
    "\n",
    "print('Train loss:', train_loss)\n",
    "print('Train MAE:', train_mae)\n",
    "print('Train RMSE:', train_rmse)\n",
    "print('Train rating accuracy:', train_rating_acc)"
   ]
  },
  {
   "cell_type": "code",
   "execution_count": 1026,
   "id": "160db50c",
   "metadata": {},
   "outputs": [
    {
     "data": {
      "image/png": "[encoded data removed]",
      "text/plain": [
       "<Figure size 432x288 with 1 Axes>"
      ]
     },
     "metadata": {
      "needs_background": "light"
     },
     "output_type": "display_data"
    }
   ],
   "source": [
    "\n",
    "# Plot training & validation loss values\n",
    "plt.plot(history.history['loss'])\n",
    "plt.plot(history.history['val_loss'])\n",
    "plt.title('Model loss')\n",
    "plt.ylabel('Loss')\n",
    "plt.xlabel('Epoch')\n",
    "plt.legend(['Train', 'Val'], loc='upper left')\n",
    "plt.show()"
   ]
  },
  {
   "cell_type": "code",
   "execution_count": 1027,
   "id": "6238ff39",
   "metadata": {},
   "outputs": [
    {
     "name": "stdout",
     "output_type": "stream",
     "text": [
      "316/316 [==============================] - 1s 2ms/step\n"
     ]
    },
    {
     "data": {
      "image/png": "[encoded data removed]",
      "text/plain": [
       "<Figure size 576x432 with 1 Axes>"
      ]
     },
     "metadata": {
      "needs_background": "light"
     },
     "output_type": "display_data"
    }
   ],
   "source": [
    "# Plot the RMSE and MAE\n",
    "plt.figure(figsize=(8, 6))\n",
    "plt.scatter(test_df['rating'], model.predict([test_df['movieId'], test_df['userId']]), alpha=0.5)\n",
    "plt.plot(np.arange(0, 5.5, 0.5), np.arange(0, 5.5, 0.5), 'r--')\n",
    "plt.xlabel('Actual rating')\n",
    "plt.ylabel('Predicted rating')\n",
    "plt.title('Predicted vs Actual Ratings')\n",
    "plt.show()\n"
   ]
  },
  {
   "cell_type": "code",
   "execution_count": 1028,
   "id": "c04e3def",
   "metadata": {},
   "outputs": [
    {
     "data": {
      "image/png": "[encoded data removed]",
      "text/plain": [
       "<Figure size 432x288 with 1 Axes>"
      ]
     },
     "metadata": {
      "needs_background": "light"
     },
     "output_type": "display_data"
    }
   ],
   "source": [
    "# Plot training & validation rating accuracy values\n",
    "plt.plot(history.history['rating_accuracy'])\n",
    "plt.plot(history.history['val_rating_accuracy'])\n",
    "plt.title('Model Rating Accuracy')\n",
    "plt.ylabel('Rating Accuracy')\n",
    "plt.xlabel('Epoch')\n",
    "plt.legend(['Train', 'Val'], loc='upper left')\n",
    "plt.show()"
   ]
  },
  {
   "cell_type": "code",
   "execution_count": 1045,
   "id": "3e1ddbcd",
   "metadata": {},
   "outputs": [
    {
     "name": "stdout",
     "output_type": "stream",
     "text": [
      "1/1 [==============================] - 0s 24ms/step\n",
      "Actual rating for movie 104841 by user 29: 4.00\n",
      "Predicted rating for movie 104841 by user 29: 4.05\n"
     ]
    }
   ],
   "source": [
    "# Get user and movie IDs from the user\n",
    "user_id = 29\n",
    "movie_id = 104841\n",
    "\n",
    "\n",
    "# Use the model to predict the user's rating for the movie\n",
    "predicted_rating = model.predict([np.array([movie_id]), np.array([user_id])])[0][0]\n",
    "\n",
    "# Filter the ratings dataframe based on the user_id and movie_id\n",
    "actual_rating = ratings_df[(ratings_df['userId'] == user_id) & (ratings_df['movieId'] == movie_id)]['rating'].values[0]\n",
    "\n",
    "# Print the actual rating\n",
    "print(f\"Actual rating for movie {movie_id} by user {user_id}: {actual_rating:.2f}\")\n",
    "# Print the predicted rating\n",
    "print(f\"Predicted rating for movie {movie_id} by user {user_id}: {predicted_rating:.2f}\")"
   ]
  },
  {
   "cell_type": "code",
   "execution_count": 1049,
   "id": "97b66314",
   "metadata": {
    "scrolled": false
   },
   "outputs": [
    {
     "name": "stdout",
     "output_type": "stream",
     "text": [
      "300/300 [==============================] - 1s 2ms/step\n",
      "Recommended movies for user 80:\n",
      "                                                  title  predicted_rating\n",
      "6799                                      Hunger (2008)               5.0\n",
      "3704                                    Promises (2001)               5.0\n",
      "7582                         What's Your Number? (2011)               5.0\n",
      "5527                                     Nirvana (1997)               5.0\n",
      "5544  Neon Genesis Evangelion: The End of Evangelion...               5.0\n",
      "4576  Revolution Will Not Be Televised, The (a.k.a. ...               5.0\n",
      "4579  Gloomy Sunday (Ein Lied von Liebe und Tod) (1999)               5.0\n",
      "3245                               Game of Death (1978)               5.0\n",
      "4582               My Architect: A Son's Journey (2003)               5.0\n",
      "7550     Separation, A (Jodaeiye Nader az Simin) (2011)               5.0\n",
      "\n",
      "\n",
      "304/304 [==============================] - 1s 2ms/step\n",
      "Recommended movies for user 81:\n",
      "                                                  title  predicted_rating\n",
      "8935                                     Villain (1971)          4.965166\n",
      "4096                                     Android (1982)          4.852563\n",
      "5026  Master of the Flying Guillotine (Du bi quan wa...          4.780812\n",
      "4019                    Galaxy of Terror (Quest) (1981)          4.743320\n",
      "8967                      Ooops! Noah is Gone... (2015)          4.741284\n",
      "6025  Match Factory Girl, The (Tulitikkutehtaan tytt...          4.708749\n",
      "8917           Tom and Jerry: Shiver Me Whiskers (2006)          4.697789\n",
      "4024                                      Looker (1981)          4.649734\n",
      "6157          Go for Zucker! (Alles auf Zucker!) (2004)          4.645804\n",
      "2639                                  Bossa Nova (2000)          4.645509\n",
      "\n",
      "\n",
      "298/298 [==============================] - 1s 2ms/step\n",
      "Recommended movies for user 82:\n",
      "                                         title  predicted_rating\n",
      "8447  Stuart Little 3: Call of the Wild (2005)               5.0\n",
      "8716  Tom and Jerry: Shiver Me Whiskers (2006)               5.0\n",
      "8841                         The Editor (2015)               5.0\n",
      "8610                            Buzzard (2015)               5.0\n",
      "8709          Scooby-Doo Goes Hollywood (1979)               5.0\n",
      "3738                        The Big Bus (1976)               5.0\n",
      "8400        Scooby-Doo! Abracadabra-Doo (2010)               5.0\n",
      "8598                        Willy/Milly (1986)               5.0\n",
      "7012                           Meantime (1984)               5.0\n",
      "8593   Tom and Jerry: A Nutcracker Tale (2007)               5.0\n",
      "\n",
      "\n"
     ]
    }
   ],
   "source": [
    "# Loop through a list of user IDs and recommend movies for each user\n",
    "for user_id in range(80, 83):\n",
    "    # Create a list of all movies not yet rated by the user\n",
    "    movies_not_watched = movies_df[~movies_df['movieId'].isin(ratings_df[ratings_df['userId']==user_id]['movieId'])]['movieId'].unique()\n",
    "\n",
    "    # Create a dataframe with all combinations of user ID and movie ID\n",
    "    user_movie_df = pd.DataFrame({'userId': user_id, 'movieId': movies_not_watched})\n",
    "\n",
    "    # Predict the ratings for all user-movie combinations using the trained model\n",
    "    user_movie_df['predicted_rating'] = model.predict([user_movie_df['movieId'], user_movie_df['userId']])\n",
    "\n",
    "    # Clip the predicted ratings to a range of 0 to 5\n",
    "    user_movie_df['predicted_rating'] = np.clip(user_movie_df['predicted_rating'], 0, 5)\n",
    "\n",
    "    # Merge the user-movie dataframe with the movies dataframe to get the titles of the recommended movies\n",
    "    recommended_movies = pd.merge(user_movie_df, movies_df[['movieId', 'title']], on='movieId')\n",
    "\n",
    "    # Sort the predicted ratings in descending order and return the top 10 movies\n",
    "    recommended_movies = recommended_movies.sort_values(by='predicted_rating', ascending=False).head(10)\n",
    "\n",
    "    # Print the recommended movies with titles\n",
    "    print(f\"Recommended movies for user {user_id}:\")\n",
    "    print(recommended_movies[['title', 'predicted_rating']])\n",
    "    print(\"\\n\")"
   ]
  }
 ],
 "metadata": {
  "kernelspec": {
   "display_name": "Python 3 (ipykernel)",
   "language": "python",
   "name": "python3"
  },
  "language_info": {
   "codemirror_mode": {
    "name": "ipython",
    "version": 3
   },
   "file_extension": ".py",
   "mimetype": "text/x-python",
   "name": "python",
   "nbconvert_exporter": "python",
   "pygments_lexer": "ipython3",
   "version": "3.9.7"
  }
 },
 "nbformat": 4,
 "nbformat_minor": 5
}
